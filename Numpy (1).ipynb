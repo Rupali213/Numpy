{
 "cells": [
  {
   "cell_type": "markdown",
   "id": "69159d74-9f8b-4544-a172-93397fe4acd0",
   "metadata": {},
   "source": [
    "### Theoretical Question"
   ]
  },
  {
   "cell_type": "markdown",
   "id": "77047b48-fc7c-4bfc-b4c5-18d909623fb8",
   "metadata": {},
   "source": [
    "### 1. Explain the purpose and advantages of NumPy in scientific computing and data analysis. How does it enhance Python's capabilities for numerical operations\n",
    "\n"
   ]
  },
  {
   "cell_type": "markdown",
   "id": "efaa7968-8d70-449d-bf9f-e786371f9a0b",
   "metadata": {},
   "source": [
    "Purpose of Numpy:\n",
    "Numeric calculation\n",
    "Efficient Array\n",
    "\n",
    "Advantages of Numpy:\n",
    "fast calculation\n",
    "ease of use \n",
    "memory efficiency\n",
    "\n",
    "NumPy indeed provides a powerful N-dimensional array object (numpy.ndarray) that enhances Python's capabilities for numerical operations and scientific computing. "
   ]
  },
  {
   "cell_type": "markdown",
   "id": "c440cb32-1598-4128-a0cd-d1fd084d0d93",
   "metadata": {},
   "source": [
    "### 2. Compare and contrast np.mean() and np.average() functions in NumPy. When would you use one over the other?"
   ]
  },
  {
   "cell_type": "code",
   "execution_count": null,
   "id": "33febe0f-b5dc-481e-bf2e-4d355de6d3bc",
   "metadata": {},
   "outputs": [],
   "source": [
    "np.mean() and np.average() both functions are used to find average of array but when we have to find weighted average of any array we use np.average "
   ]
  },
  {
   "cell_type": "markdown",
   "id": "8c35c274-bef1-4c53-bbf2-9d7213cf069a",
   "metadata": {},
   "source": [
    "### 3. Describe the methods for reversing a NumPy array along different axes. Provide examples for 1D and 2D arrays"
   ]
  },
  {
   "cell_type": "code",
   "execution_count": 45,
   "id": "daeeb5a7-d399-498e-9e9d-c9385a83d4f3",
   "metadata": {},
   "outputs": [],
   "source": [
    "import numpy as np\n",
    "a=np.array([1,2,3])\n",
    "b=np.flip(a)"
   ]
  },
  {
   "cell_type": "code",
   "execution_count": 46,
   "id": "76c5d3a3-a76b-4a5d-b3f2-8d8bfc263adc",
   "metadata": {},
   "outputs": [
    {
     "data": {
      "text/plain": [
       "array([3, 2, 1])"
      ]
     },
     "execution_count": 46,
     "metadata": {},
     "output_type": "execute_result"
    }
   ],
   "source": [
    "b             # for one dimensional"
   ]
  },
  {
   "cell_type": "code",
   "execution_count": 43,
   "id": "9bfa26f5-5d3b-43dd-abeb-b3500a7f8f89",
   "metadata": {},
   "outputs": [],
   "source": [
    "import numpy as np\n",
    "a=np.array([[1,2,3],[4,5,6]])  # for 2-D \n",
    "b=np.flip(a)"
   ]
  },
  {
   "cell_type": "code",
   "execution_count": 44,
   "id": "4713b6ec-1e98-4d5d-b0d3-5a10e3e83bec",
   "metadata": {},
   "outputs": [
    {
     "data": {
      "text/plain": [
       "array([[6, 5, 4],\n",
       "       [3, 2, 1]])"
      ]
     },
     "execution_count": 44,
     "metadata": {},
     "output_type": "execute_result"
    }
   ],
   "source": [
    "b"
   ]
  },
  {
   "cell_type": "code",
   "execution_count": null,
   "id": "230953b6-3ea7-4663-8b82-d49107960a5a",
   "metadata": {},
   "outputs": [],
   "source": []
  },
  {
   "cell_type": "markdown",
   "id": "aa973d5d-525e-4020-9fac-305ddab5bf78",
   "metadata": {},
   "source": [
    "### 4. How can you determine the data type of elements in a NumPy array? Discuss the importance of data types in memory management and performance"
   ]
  },
  {
   "cell_type": "code",
   "execution_count": null,
   "id": "8d068214-9d5e-4299-b2f9-48e8d72a35d3",
   "metadata": {},
   "outputs": [],
   "source": [
    "We can determine the data type of elements by using \"dtype\" attributes. It plays important role in memory manage, as different data type consumes \n",
    "different amount of memory so by by choosing appropriate data type we can save memory ,it also affects computational performance if data types are small\n",
    "then it consumes less memory and give fast result in contrast if there is large data type it consume more space and take time in computing value"
   ]
  },
  {
   "cell_type": "markdown",
   "id": "e81fa0eb-cc23-40fc-bf24-97e9cb93d9da",
   "metadata": {},
   "source": [
    "### .5. Define ndarrays in NumPy and explain their key features. How do they differ from standard Python list"
   ]
  },
  {
   "cell_type": "code",
   "execution_count": null,
   "id": "fc44cb88-e41f-465a-8b99-c14ed88d61a3",
   "metadata": {},
   "outputs": [],
   "source": [
    "ndarray: ndarray are Ndimensional homogeneous data container used for numeric computation in python\n",
    "Key features of ndarray : Homogeneous data type ,multidimensional\n",
    "python list doesn't provide multi dimensional support as nd array and it is heterogeneous data container\n"
   ]
  },
  {
   "cell_type": "markdown",
   "id": "9bac40c6-0d13-4064-8353-a303f42a2cca",
   "metadata": {},
   "source": [
    "### 6.Analyze the performance benefits of NumPy arrays over Python lists for large-scale numerical operations"
   ]
  },
  {
   "cell_type": "code",
   "execution_count": null,
   "id": "32b582de-f945-4734-82d7-127f7fed1a58",
   "metadata": {},
   "outputs": [],
   "source": [
    "NumPy arrays provide vectorised operation and efficient memory access whereas python list require explicit\n",
    "iteration operation and consumes more memory in comparision to NumPy arrays . "
   ]
  },
  {
   "cell_type": "markdown",
   "id": "e8cec53b-7caa-4637-9cf1-d50f84309ae3",
   "metadata": {},
   "source": [
    "### 7. Compare vstack() and hstack() functions in NumPy. Provide examples demonstrating their usage and output"
   ]
  },
  {
   "cell_type": "code",
   "execution_count": 28,
   "id": "a691bf10-4a68-43e8-9413-6f129c40225b",
   "metadata": {},
   "outputs": [],
   "source": [
    "arr=np.array([[2,3,4],[5,6,7]])"
   ]
  },
  {
   "cell_type": "code",
   "execution_count": 32,
   "id": "0e9fe8a2-eb46-49c5-ab0d-e2b53366aead",
   "metadata": {},
   "outputs": [
    {
     "data": {
      "text/plain": [
       "array([[2, 3, 4],\n",
       "       [5, 6, 7]])"
      ]
     },
     "execution_count": 32,
     "metadata": {},
     "output_type": "execute_result"
    }
   ],
   "source": [
    "np.vstack(arr) #it joins two or mpre array vertically"
   ]
  },
  {
   "cell_type": "code",
   "execution_count": 33,
   "id": "ac9f89c7-aa9a-46d3-ad5d-634e22b40b09",
   "metadata": {},
   "outputs": [
    {
     "data": {
      "text/plain": [
       "array([2, 3, 4, 5, 6, 7])"
      ]
     },
     "execution_count": 33,
     "metadata": {},
     "output_type": "execute_result"
    }
   ],
   "source": [
    "np.hstack(arr)  #it joins two or more rows horizontally"
   ]
  },
  {
   "cell_type": "markdown",
   "id": "126431cc-8048-4dc3-a5a9-fdaee9043540",
   "metadata": {},
   "source": [
    "### 8. Explain the differences between fliplr() and flipud() methods in NumPy, including their effects on various array dimensions"
   ]
  },
  {
   "cell_type": "code",
   "execution_count": 34,
   "id": "e3980e53-e8fd-4957-87b3-52a4b7b20f1d",
   "metadata": {
    "scrolled": true
   },
   "outputs": [
    {
     "data": {
      "text/plain": [
       "array([[4, 3, 2],\n",
       "       [6, 5, 4]])"
      ]
     },
     "execution_count": 34,
     "metadata": {},
     "output_type": "execute_result"
    }
   ],
   "source": [
    "a=np.array([[2,3,4],[4,5,6]])  #it flip the array from left to right vertically\n",
    "np.fliplr(a)"
   ]
  },
  {
   "cell_type": "code",
   "execution_count": 36,
   "id": "c316ff0c-d905-4a6d-8da2-477c84851e21",
   "metadata": {},
   "outputs": [
    {
     "data": {
      "text/plain": [
       "array([[4, 5, 6],\n",
       "       [2, 3, 4]])"
      ]
     },
     "execution_count": 36,
     "metadata": {},
     "output_type": "execute_result"
    }
   ],
   "source": [
    "a=np.array([[2,3,4],[4,5,6]])   #it flip the array from up to down horizontally\n",
    "np.flipud(a)"
   ]
  },
  {
   "cell_type": "markdown",
   "id": "2988b034-0b4b-46c4-a184-2f1669b8e039",
   "metadata": {},
   "source": [
    "### 9. Discuss the functionality of the array_split() method in NumPy. How does it handle uneven splits?"
   ]
  },
  {
   "cell_type": "code",
   "execution_count": 46,
   "id": "d4c8a345-aecd-4478-8998-b65d1d9a1175",
   "metadata": {},
   "outputs": [
    {
     "data": {
      "text/plain": [
       "[array([[2, 3],\n",
       "        [4, 5],\n",
       "        [4, 3],\n",
       "        [6, 7]]),\n",
       " array([[4],\n",
       "        [6],\n",
       "        [6],\n",
       "        [8]])]"
      ]
     },
     "execution_count": 46,
     "metadata": {},
     "output_type": "execute_result"
    }
   ],
   "source": [
    "a= np.array([[2,3,4],[4,5,6,],[4,3,6],[6,7,8]])\n",
    "b=np.array_split(a,2,axis=1)  #uneven splits go into last sub-array\n",
    "b"
   ]
  },
  {
   "cell_type": "markdown",
   "id": "ff989703-1ae3-4558-b569-14d531a17e21",
   "metadata": {},
   "source": [
    "### 10. Explain the concepts of vectorization and broadcasting in NumPy. How do they contribute to efficient array operations"
   ]
  },
  {
   "cell_type": "code",
   "execution_count": null,
   "id": "c949683c-aeb1-4681-9aa2-84d4aac468b1",
   "metadata": {},
   "outputs": [],
   "source": [
    "vectorisation means performing operations on entire arrays at once. \n",
    "It is efficient because it process multiple element simultaneously\n",
    "it saves our time by doing fast calculation\n",
    "\n",
    "broadcasting allow us to performe operation on different shapes of array \n",
    "when dimension are not same it stretches the smaller shape to match with broader one"
   ]
  },
  {
   "cell_type": "code",
   "execution_count": 7,
   "id": "c8556376-776f-4c5c-a2d3-6bc073a693a1",
   "metadata": {},
   "outputs": [
    {
     "data": {
      "text/plain": [
       "array([6, 7, 8])"
      ]
     },
     "execution_count": 7,
     "metadata": {},
     "output_type": "execute_result"
    }
   ],
   "source": [
    "import numpy as np\n",
    "arr=np.array([1, 2, 3])\n",
    "arr1=np.array([5])\n",
    "arr+arr1\n"
   ]
  },
  {
   "cell_type": "markdown",
   "id": "59d2916e-b53a-41cb-8a6d-27b3578e351e",
   "metadata": {},
   "source": [
    "## Practical Questions:"
   ]
  },
  {
   "cell_type": "markdown",
   "id": "832e51e1-d50b-446a-9517-329f26ec8457",
   "metadata": {},
   "source": [
    "** 1. Create a 3x3 NumPy array with random integers between 1 and 100. Then, interchange its rows and columns."
   ]
  },
  {
   "cell_type": "code",
   "execution_count": 3,
   "id": "910d3b3c-62c6-48f3-baa0-50692ce4c955",
   "metadata": {},
   "outputs": [],
   "source": [
    "import numpy as np\n",
    "import random\n",
    "arr=np.random.randint(1,100,(3,3,) , dtype= int)"
   ]
  },
  {
   "cell_type": "code",
   "execution_count": 4,
   "id": "6ab243cb-cc51-4b18-8e1f-2618489006f0",
   "metadata": {},
   "outputs": [
    {
     "data": {
      "text/plain": [
       "array([[64, 41, 44],\n",
       "       [62, 34, 88],\n",
       "       [72, 22, 51]], dtype=int32)"
      ]
     },
     "execution_count": 4,
     "metadata": {},
     "output_type": "execute_result"
    }
   ],
   "source": [
    "arr\n"
   ]
  },
  {
   "cell_type": "code",
   "execution_count": 9,
   "id": "4d59b1ed-e075-4854-83af-472d532b9e3b",
   "metadata": {},
   "outputs": [
    {
     "data": {
      "text/plain": [
       "array([[64, 62, 72],\n",
       "       [41, 34, 22],\n",
       "       [44, 88, 51]], dtype=int32)"
      ]
     },
     "execution_count": 9,
     "metadata": {},
     "output_type": "execute_result"
    }
   ],
   "source": [
    "arr.T #interchanged"
   ]
  },
  {
   "cell_type": "markdown",
   "id": "24800fbb-619a-4371-a8fe-4226ca561925",
   "metadata": {},
   "source": [
    "**2. Generate a 1D NumPy array with 10 elements. Reshape it into a 2x5 array, then into a 5x2 array."
   ]
  },
  {
   "cell_type": "code",
   "execution_count": 47,
   "id": "b125aff3-5b5e-4232-98c0-0c90501715b9",
   "metadata": {},
   "outputs": [],
   "source": [
    "arr1= np.arange(10)"
   ]
  },
  {
   "cell_type": "code",
   "execution_count": 48,
   "id": "b788aa9a-2114-4ab4-850f-78b33b49abfa",
   "metadata": {},
   "outputs": [
    {
     "data": {
      "text/plain": [
       "array([0, 1, 2, 3, 4, 5, 6, 7, 8, 9])"
      ]
     },
     "execution_count": 48,
     "metadata": {},
     "output_type": "execute_result"
    }
   ],
   "source": [
    "arr1"
   ]
  },
  {
   "cell_type": "code",
   "execution_count": 11,
   "id": "ad079958-7870-429a-b788-8f4491487396",
   "metadata": {},
   "outputs": [
    {
     "data": {
      "text/plain": [
       "array([[0, 1, 2, 3, 4],\n",
       "       [5, 6, 7, 8, 9]])"
      ]
     },
     "execution_count": 11,
     "metadata": {},
     "output_type": "execute_result"
    }
   ],
   "source": [
    "arr1.reshape(2,5)"
   ]
  },
  {
   "cell_type": "code",
   "execution_count": 13,
   "id": "def169ea-0963-4be9-917c-3d3c05bb2f4e",
   "metadata": {},
   "outputs": [
    {
     "data": {
      "text/plain": [
       "array([[0, 1],\n",
       "       [2, 3],\n",
       "       [4, 5],\n",
       "       [6, 7],\n",
       "       [8, 9]])"
      ]
     },
     "execution_count": 13,
     "metadata": {},
     "output_type": "execute_result"
    }
   ],
   "source": [
    "arr1.reshape(5,2)"
   ]
  },
  {
   "cell_type": "markdown",
   "id": "0f46d014-4141-4b19-9c96-3ff661e7fae3",
   "metadata": {},
   "source": [
    "### 3. Create a 4x4 NumPy array with random float values. Add a border of zeros around it, resulting in a 6x6 array."
   ]
  },
  {
   "cell_type": "code",
   "execution_count": 15,
   "id": "d84ebf9a-680a-442d-b8a2-bacb844d9cf8",
   "metadata": {},
   "outputs": [],
   "source": [
    "import random\n",
    "import numpy as np\n",
    "arr= np.random.rand(4, 4) "
   ]
  },
  {
   "cell_type": "code",
   "execution_count": 16,
   "id": "215921bd-c68b-4c59-b407-8c8ffc4b974e",
   "metadata": {},
   "outputs": [
    {
     "data": {
      "text/plain": [
       "array([[0.03012628, 0.70515506, 0.41555221, 0.6717597 ],\n",
       "       [0.60696417, 0.59396851, 0.68897488, 0.50482212],\n",
       "       [0.81481484, 0.85118711, 0.84634631, 0.98491317],\n",
       "       [0.16247235, 0.55080482, 0.66750422, 0.61240672]])"
      ]
     },
     "execution_count": 16,
     "metadata": {},
     "output_type": "execute_result"
    }
   ],
   "source": [
    "arr"
   ]
  },
  {
   "cell_type": "code",
   "execution_count": 17,
   "id": "c3b062ae-3634-4ac9-9517-664c90c38924",
   "metadata": {},
   "outputs": [],
   "source": [
    "border_array = np.zeros((6, 6))"
   ]
  },
  {
   "cell_type": "code",
   "execution_count": 18,
   "id": "13a66d99-007e-4201-8698-1b9730a72dd2",
   "metadata": {},
   "outputs": [
    {
     "data": {
      "text/plain": [
       "array([[0., 0., 0., 0., 0., 0.],\n",
       "       [0., 0., 0., 0., 0., 0.],\n",
       "       [0., 0., 0., 0., 0., 0.],\n",
       "       [0., 0., 0., 0., 0., 0.],\n",
       "       [0., 0., 0., 0., 0., 0.],\n",
       "       [0., 0., 0., 0., 0., 0.]])"
      ]
     },
     "execution_count": 18,
     "metadata": {},
     "output_type": "execute_result"
    }
   ],
   "source": [
    "border_array"
   ]
  },
  {
   "cell_type": "code",
   "execution_count": 20,
   "id": "db3bc8d2-5382-4900-8c98-b2ca1a8348f6",
   "metadata": {},
   "outputs": [],
   "source": [
    "border_array[1:5, 1:5]=arr"
   ]
  },
  {
   "cell_type": "code",
   "execution_count": 22,
   "id": "10136d25-8e9d-43a4-a3bc-2822dec116ed",
   "metadata": {},
   "outputs": [
    {
     "data": {
      "text/plain": [
       "array([[0.        , 0.        , 0.        , 0.        , 0.        ,\n",
       "        0.        ],\n",
       "       [0.        , 0.03012628, 0.70515506, 0.41555221, 0.6717597 ,\n",
       "        0.        ],\n",
       "       [0.        , 0.60696417, 0.59396851, 0.68897488, 0.50482212,\n",
       "        0.        ],\n",
       "       [0.        , 0.81481484, 0.85118711, 0.84634631, 0.98491317,\n",
       "        0.        ],\n",
       "       [0.        , 0.16247235, 0.55080482, 0.66750422, 0.61240672,\n",
       "        0.        ],\n",
       "       [0.        , 0.        , 0.        , 0.        , 0.        ,\n",
       "        0.        ]])"
      ]
     },
     "execution_count": 22,
     "metadata": {},
     "output_type": "execute_result"
    }
   ],
   "source": [
    "border_array"
   ]
  },
  {
   "cell_type": "code",
   "execution_count": null,
   "id": "52d61d1d-8f19-4573-8947-cae2cbb3e186",
   "metadata": {},
   "outputs": [],
   "source": []
  },
  {
   "cell_type": "markdown",
   "id": "eb678265-214a-4917-a187-c23d5b97be0e",
   "metadata": {},
   "source": [
    "### 4. Using NumPy, create an array of integers from 10 to 60 with a step of 5"
   ]
  },
  {
   "cell_type": "code",
   "execution_count": 3,
   "id": "1c30e40f-630a-40a7-a137-ef6c932f7063",
   "metadata": {},
   "outputs": [
    {
     "data": {
      "text/plain": [
       "array([10. , 22.5, 35. , 47.5, 60. ])"
      ]
     },
     "execution_count": 3,
     "metadata": {},
     "output_type": "execute_result"
    }
   ],
   "source": [
    "arr= np.linspace(10,60,5)\n",
    "arr"
   ]
  },
  {
   "cell_type": "markdown",
   "id": "0a9612a5-bc98-4378-993f-e9d64cf8ba7f",
   "metadata": {},
   "source": [
    "### 5. Create a NumPy array of strings ['python', 'numpy', 'pandas']. Apply different case transformations \n",
    "(uppercase, lowercase, title case, etc.) to each element"
   ]
  },
  {
   "cell_type": "code",
   "execution_count": 4,
   "id": "52e576ea-942d-48d4-8730-89f71f875c0d",
   "metadata": {},
   "outputs": [],
   "source": [
    "a= [\"python\", \"numpy\", \"pandas\"]\n",
    "arr=np.array([(i).upper() for i in a])"
   ]
  },
  {
   "cell_type": "code",
   "execution_count": 5,
   "id": "9a692ea9-b87a-4203-9cd4-dcd3636ec643",
   "metadata": {},
   "outputs": [
    {
     "data": {
      "text/plain": [
       "array(['PYTHON', 'NUMPY', 'PANDAS'], dtype='<U6')"
      ]
     },
     "execution_count": 5,
     "metadata": {},
     "output_type": "execute_result"
    }
   ],
   "source": [
    "arr"
   ]
  },
  {
   "cell_type": "code",
   "execution_count": 6,
   "id": "d49ffc2b-165e-473e-90cb-61fae58b3740",
   "metadata": {},
   "outputs": [
    {
     "data": {
      "text/plain": [
       "array(['python', 'numpy', 'pandas'], dtype='<U6')"
      ]
     },
     "execution_count": 6,
     "metadata": {},
     "output_type": "execute_result"
    }
   ],
   "source": [
    "a= [\"python\", \"numpy\", \"pandas\"]\n",
    "arr=np.array([(i).lower() for i in a])\n",
    "arr"
   ]
  },
  {
   "cell_type": "code",
   "execution_count": 12,
   "id": "76629b41-bcd7-4546-acdc-b3cf5e1c6763",
   "metadata": {},
   "outputs": [],
   "source": [
    "a =[\"python\", \"numpy\", \"pandas\"]\n",
    "arr1=np.array([(i).title() for i in a])"
   ]
  },
  {
   "cell_type": "code",
   "execution_count": 13,
   "id": "441ae9bb-6cae-415d-af41-de9294a5c3bc",
   "metadata": {},
   "outputs": [
    {
     "data": {
      "text/plain": [
       "array(['Python', 'Numpy', 'Pandas'], dtype='<U6')"
      ]
     },
     "execution_count": 13,
     "metadata": {},
     "output_type": "execute_result"
    }
   ],
   "source": [
    "arr1"
   ]
  },
  {
   "cell_type": "markdown",
   "id": "1808c772-69d7-4047-980d-e6dd6877f85e",
   "metadata": {},
   "source": [
    "### 6. Generate a NumPy array of words. Insert a space between each character of every word in the array"
   ]
  },
  {
   "cell_type": "code",
   "execution_count": 50,
   "id": "a465419c-f993-48a9-8e7a-89441cac08c6",
   "metadata": {
    "scrolled": true
   },
   "outputs": [
    {
     "data": {
      "text/plain": [
       "array('h  e  l  l  o  ,     m  u  m  b  a  i     ,     b  a  n  g  l  o  r  e',\n",
       "      dtype='<U70')"
      ]
     },
     "execution_count": 50,
     "metadata": {},
     "output_type": "execute_result"
    }
   ],
   "source": [
    "import numpy as np\n",
    "my_words = np.array (\"hello, mumbai , banglore\")\n",
    "s= np.char.join(\"  \",my_words)\n",
    "s"
   ]
  },
  {
   "cell_type": "markdown",
   "id": "df55e678-3244-40aa-973b-c66e3ee2854c",
   "metadata": {},
   "source": [
    "### 7. Create two 2D NumPy arrays and perform element-wise addition, subtraction, multiplication, and division"
   ]
  },
  {
   "cell_type": "code",
   "execution_count": 13,
   "id": "2a1b849f-23f0-4e70-8632-97d53e33a7a1",
   "metadata": {},
   "outputs": [
    {
     "data": {
      "text/plain": [
       "array([[8, 8, 8],\n",
       "       [6, 9, 8]])"
      ]
     },
     "execution_count": 13,
     "metadata": {},
     "output_type": "execute_result"
    }
   ],
   "source": [
    "arr1=np.array([[1,2,3],[4,5,6]])\n",
    "arr2=np.array([[7,6,5],[2,4,2]])\n",
    "arr1+arr2\n"
   ]
  },
  {
   "cell_type": "code",
   "execution_count": 14,
   "id": "2d77096f-98d7-4531-9ca2-7df4e08da922",
   "metadata": {},
   "outputs": [
    {
     "data": {
      "text/plain": [
       "array([[-6, -4, -2],\n",
       "       [ 2,  1,  4]])"
      ]
     },
     "execution_count": 14,
     "metadata": {},
     "output_type": "execute_result"
    }
   ],
   "source": [
    "arr1-arr2\n"
   ]
  },
  {
   "cell_type": "code",
   "execution_count": 15,
   "id": "173e9478-628d-447a-9dbc-f1992db1b5f6",
   "metadata": {},
   "outputs": [
    {
     "data": {
      "text/plain": [
       "array([[ 7, 12, 15],\n",
       "       [ 8, 20, 12]])"
      ]
     },
     "execution_count": 15,
     "metadata": {},
     "output_type": "execute_result"
    }
   ],
   "source": [
    "arr1*arr2"
   ]
  },
  {
   "cell_type": "code",
   "execution_count": 16,
   "id": "b3cecc34-748b-469f-81d5-acdea468610a",
   "metadata": {},
   "outputs": [
    {
     "data": {
      "text/plain": [
       "array([[0.14285714, 0.33333333, 0.6       ],\n",
       "       [2.        , 1.25      , 3.        ]])"
      ]
     },
     "execution_count": 16,
     "metadata": {},
     "output_type": "execute_result"
    }
   ],
   "source": [
    "arr1/arr2"
   ]
  },
  {
   "cell_type": "markdown",
   "id": "b55d2f51-02c7-456d-9ab5-b3c418a18814",
   "metadata": {},
   "source": [
    "### 8. Use NumPy to create a 5x5 identity matrix, then extract its diagonal elements"
   ]
  },
  {
   "cell_type": "code",
   "execution_count": 17,
   "id": "16a15f3a-e4ec-473d-bde0-cd895e6f3c20",
   "metadata": {},
   "outputs": [],
   "source": [
    "arr=np.eye(5)"
   ]
  },
  {
   "cell_type": "code",
   "execution_count": 18,
   "id": "dbb80ae1-f337-40c1-8d99-bbffc124dbbb",
   "metadata": {},
   "outputs": [
    {
     "data": {
      "text/plain": [
       "array([[1., 0., 0., 0., 0.],\n",
       "       [0., 1., 0., 0., 0.],\n",
       "       [0., 0., 1., 0., 0.],\n",
       "       [0., 0., 0., 1., 0.],\n",
       "       [0., 0., 0., 0., 1.]])"
      ]
     },
     "execution_count": 18,
     "metadata": {},
     "output_type": "execute_result"
    }
   ],
   "source": [
    "arr"
   ]
  },
  {
   "cell_type": "code",
   "execution_count": 22,
   "id": "a976f496-8797-4bea-8168-53cd04122ae3",
   "metadata": {},
   "outputs": [
    {
     "data": {
      "text/plain": [
       "array([1., 1., 1., 1., 1.])"
      ]
     },
     "execution_count": 22,
     "metadata": {},
     "output_type": "execute_result"
    }
   ],
   "source": [
    "np.diag(arr)"
   ]
  },
  {
   "cell_type": "markdown",
   "id": "df7a8398-6d0e-4982-8dd0-b2df1e4ce07b",
   "metadata": {},
   "source": [
    "### 9. Generate a NumPy array of 100 random integers between 0 and 1000. Find and display all prime numbers in \n",
    "this array"
   ]
  },
  {
   "cell_type": "code",
   "execution_count": 10,
   "id": "c9ae80bb-21fd-4c2e-8152-21fef88f87af",
   "metadata": {},
   "outputs": [],
   "source": [
    "import random\n",
    "a=np.random.randint(0,1000,100)"
   ]
  },
  {
   "cell_type": "code",
   "execution_count": 11,
   "id": "cb72f460-578f-40bc-9e21-ead694c59013",
   "metadata": {},
   "outputs": [
    {
     "data": {
      "text/plain": [
       "array([512, 764, 474, 830, 499, 543, 620, 374, 357, 418, 918, 285,  23,\n",
       "       986, 320, 189, 992,  68, 353,  63, 367, 948, 792, 597, 465, 119,\n",
       "       259, 800, 988,  93, 286, 831,   2, 275, 190, 480, 654, 401, 664,\n",
       "       270,  78,  74, 611, 286, 306, 497, 408, 370, 993,  62, 180, 731,\n",
       "       850, 312, 190, 615, 565,  71, 378, 641, 113, 116, 711, 486, 228,\n",
       "       535, 305, 692, 732, 657, 231, 767, 988, 940, 641, 261, 403, 452,\n",
       "       766, 449, 643, 932, 151, 343, 507, 346, 702, 956, 922, 769,  76,\n",
       "       245, 329, 115, 683,  19, 371, 830, 710, 725], dtype=int32)"
      ]
     },
     "execution_count": 11,
     "metadata": {},
     "output_type": "execute_result"
    }
   ],
   "source": [
    "a"
   ]
  },
  {
   "cell_type": "code",
   "execution_count": 13,
   "id": "efeef767-3d72-41a0-9622-f3c9031b3f27",
   "metadata": {},
   "outputs": [
    {
     "name": "stdout",
     "output_type": "stream",
     "text": [
      "[np.int32(499), np.int32(23), np.int32(353), np.int32(367), np.int32(2), np.int32(401), np.int32(71), np.int32(641), np.int32(113), np.int32(641), np.int32(449), np.int32(643), np.int32(151), np.int32(769), np.int32(683), np.int32(19)]\n"
     ]
    }
   ],
   "source": [
    "def is_prime(num):\n",
    "    if num<=1:\n",
    "        return False\n",
    "    for i in range(2,int(num**0.5)+1):\n",
    "        if num % i==0:\n",
    "            return False\n",
    "    return True\n",
    "prime_no=[]\n",
    "for x in a:\n",
    "    if is_prime(x):\n",
    "        prime_no.append(x)\n",
    "print(prime_no)\n",
    "        "
   ]
  },
  {
   "cell_type": "markdown",
   "id": "d973fed5-8d0b-4c3c-876a-41bcf9ec3967",
   "metadata": {},
   "source": [
    "### 10. Create a NumPy array representing daily temperatures for a month. Calculate and display the weekly \n",
    "averages"
   ]
  },
  {
   "cell_type": "code",
   "execution_count": 38,
   "id": "225394af-98f8-44f6-93d1-114da92b5166",
   "metadata": {},
   "outputs": [],
   "source": [
    "daily_temperatures = np.random.uniform(20, 50, size=28)\n"
   ]
  },
  {
   "cell_type": "code",
   "execution_count": 39,
   "id": "d54590b1-af0f-4c47-a504-7fd54961f232",
   "metadata": {},
   "outputs": [
    {
     "data": {
      "text/plain": [
       "array([42.92181363, 23.69637804, 21.89476515, 29.67893871, 47.25903909,\n",
       "       38.0081582 , 47.0029751 , 35.82494309, 45.3561767 , 27.9869507 ,\n",
       "       41.04937634, 22.09400011, 48.30445284, 25.52555733, 22.06148755,\n",
       "       47.77472184, 24.35579832, 49.32410153, 32.15452656, 46.56092283,\n",
       "       37.03857358, 23.41252654, 47.0619848 , 26.78443309, 35.08064121,\n",
       "       20.03872031, 35.82674065, 32.11432851])"
      ]
     },
     "execution_count": 39,
     "metadata": {},
     "output_type": "execute_result"
    }
   ],
   "source": [
    "daily_temperatures"
   ]
  },
  {
   "cell_type": "code",
   "execution_count": 40,
   "id": "b8b03e69-086d-4e36-9658-33ed05109c4b",
   "metadata": {},
   "outputs": [],
   "source": [
    "weekly_temperatures = daily_temperatures.reshape(4,7)\n"
   ]
  },
  {
   "cell_type": "code",
   "execution_count": 42,
   "id": "65c1f1ee-59e2-4999-9825-b95f76762460",
   "metadata": {},
   "outputs": [
    {
     "data": {
      "text/plain": [
       "array([[42.92181363, 23.69637804, 21.89476515, 29.67893871, 47.25903909,\n",
       "        38.0081582 , 47.0029751 ],\n",
       "       [35.82494309, 45.3561767 , 27.9869507 , 41.04937634, 22.09400011,\n",
       "        48.30445284, 25.52555733],\n",
       "       [22.06148755, 47.77472184, 24.35579832, 49.32410153, 32.15452656,\n",
       "        46.56092283, 37.03857358],\n",
       "       [23.41252654, 47.0619848 , 26.78443309, 35.08064121, 20.03872031,\n",
       "        35.82674065, 32.11432851]])"
      ]
     },
     "execution_count": 42,
     "metadata": {},
     "output_type": "execute_result"
    }
   ],
   "source": [
    "weekly_temperatures"
   ]
  },
  {
   "cell_type": "code",
   "execution_count": 43,
   "id": "f3129f4f-d417-4867-94f9-898126cb57bc",
   "metadata": {},
   "outputs": [],
   "source": [
    "weekly_averages = np.mean(weekly_temperatures, axis=1)"
   ]
  },
  {
   "cell_type": "code",
   "execution_count": 44,
   "id": "505294fe-fc47-43b9-9851-1bb7c0fadd41",
   "metadata": {},
   "outputs": [
    {
     "data": {
      "text/plain": [
       "array([35.78029542, 35.1630653 , 37.03859032, 31.47419644])"
      ]
     },
     "execution_count": 44,
     "metadata": {},
     "output_type": "execute_result"
    }
   ],
   "source": [
    "weekly_averages"
   ]
  },
  {
   "cell_type": "code",
   "execution_count": null,
   "id": "d1769775-7b25-4efc-adcb-7d0621d1bcea",
   "metadata": {},
   "outputs": [],
   "source": []
  },
  {
   "cell_type": "code",
   "execution_count": null,
   "id": "1f73e0f6-d553-422a-8913-004e581c9c14",
   "metadata": {},
   "outputs": [],
   "source": []
  }
 ],
 "metadata": {
  "kernelspec": {
   "display_name": "Python 3 (ipykernel)",
   "language": "python",
   "name": "python3"
  },
  "language_info": {
   "codemirror_mode": {
    "name": "ipython",
    "version": 3
   },
   "file_extension": ".py",
   "mimetype": "text/x-python",
   "name": "python",
   "nbconvert_exporter": "python",
   "pygments_lexer": "ipython3",
   "version": "3.12.3"
  }
 },
 "nbformat": 4,
 "nbformat_minor": 5
}
